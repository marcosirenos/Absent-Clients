{
 "cells": [
  {
   "cell_type": "code",
   "execution_count": 23,
   "id": "8fdbee4f",
   "metadata": {},
   "outputs": [],
   "source": [
    "# USE THIS FILE FOR TESTING SCRIPTS\n",
    "from pathlib import Path\n",
    "import pandas as pd\n",
    "from bs4 import BeautifulSoup\n",
    "import html5lib\n",
    "import pyexcel as pe\n"
   ]
  },
  {
   "cell_type": "code",
   "execution_count": 36,
   "id": "aeeed2b7",
   "metadata": {},
   "outputs": [],
   "source": [
    "source = r\"C:\\Users\\guilherme.oliveira\\Documents\\GitHub\\Absent-Clients\\data\\raw\\MonitorFlexExportacao.xls\"\n",
    "df_list = pd.read_html(source, encoding='utf-8')\n",
    "df = df_list[1]"
   ]
  },
  {
   "cell_type": "code",
   "execution_count": 38,
   "id": "1e0c9e04",
   "metadata": {},
   "outputs": [
    {
     "data": {
      "application/vnd.microsoft.datawrangler.viewer.v0+json": {
       "columns": [
        {
         "name": "index",
         "rawType": "int64",
         "type": "integer"
        },
        {
         "name": "0",
         "rawType": "object",
         "type": "string"
        },
        {
         "name": "1",
         "rawType": "object",
         "type": "string"
        },
        {
         "name": "2",
         "rawType": "object",
         "type": "string"
        },
        {
         "name": "3",
         "rawType": "object",
         "type": "string"
        },
        {
         "name": "4",
         "rawType": "object",
         "type": "string"
        },
        {
         "name": "5",
         "rawType": "object",
         "type": "string"
        },
        {
         "name": "6",
         "rawType": "object",
         "type": "string"
        },
        {
         "name": "7",
         "rawType": "object",
         "type": "string"
        },
        {
         "name": "8",
         "rawType": "object",
         "type": "string"
        },
        {
         "name": "9",
         "rawType": "object",
         "type": "string"
        },
        {
         "name": "10",
         "rawType": "object",
         "type": "string"
        },
        {
         "name": "11",
         "rawType": "object",
         "type": "string"
        }
       ],
       "ref": "38a41d87-6ca9-4d33-9b14-24d2ccad7eed",
       "rows": [
        [
         "6014",
         "GENERAL MOTORS",
         "TRACKER",
         "WMCCANN",
         "AUTOS E UTILITARIOS",
         "LONDRINA",
         "SAO PAULO",
         "SAO PAULO",
         "202507",
         "RECORD",
         "CHAMADA",
         "0208",
         "01"
        ],
        [
         "6015",
         "GENERAL MOTORS",
         "TRACKER",
         "WMCCANN",
         "AUTOS E UTILITARIOS",
         "MARINGA",
         "SAO PAULO",
         "SAO PAULO",
         "202507",
         "RECORD",
         "CHAMADA",
         "0158",
         "01"
        ],
        [
         "6016",
         "GENERAL MOTORS",
         "ACDELCO",
         "WMCCANN",
         "CS AUTOMOTIVO",
         "PONTA GROSSA MERCHANDISING",
         "SAO PAULO",
         "SAO PAULO",
         "202507",
         "SBT",
         "ACAO COMERCIAL",
         "1016",
         "01"
        ],
        [
         "6017",
         "IND ERVATEIRA VIER",
         "VERDELANDIA",
         "WO DESIGN",
         "CAFE E CHA",
         "PONTA GROSSA MERCHANDISING",
         "RIO GDE DO SUL",
         "PORTO ALEGRE",
         "202507",
         "SBT",
         "ACAO COMERCIAL",
         "0612",
         "01"
        ],
        [
         "6018",
         "Anunciante",
         "Marca",
         "Agência",
         "Categoria",
         "Praça",
         "UF Autorização",
         "Cidade Autorização",
         "Ano-Mês",
         "Emissora TV",
         "Tipo Veiculação",
         "INV(000)",
         "Inserção"
        ]
       ],
       "shape": {
        "columns": 12,
        "rows": 5
       }
      },
      "text/html": [
       "<div>\n",
       "<style scoped>\n",
       "    .dataframe tbody tr th:only-of-type {\n",
       "        vertical-align: middle;\n",
       "    }\n",
       "\n",
       "    .dataframe tbody tr th {\n",
       "        vertical-align: top;\n",
       "    }\n",
       "\n",
       "    .dataframe thead th {\n",
       "        text-align: right;\n",
       "    }\n",
       "</style>\n",
       "<table border=\"1\" class=\"dataframe\">\n",
       "  <thead>\n",
       "    <tr style=\"text-align: right;\">\n",
       "      <th></th>\n",
       "      <th>0</th>\n",
       "      <th>1</th>\n",
       "      <th>2</th>\n",
       "      <th>3</th>\n",
       "      <th>4</th>\n",
       "      <th>5</th>\n",
       "      <th>6</th>\n",
       "      <th>7</th>\n",
       "      <th>8</th>\n",
       "      <th>9</th>\n",
       "      <th>10</th>\n",
       "      <th>11</th>\n",
       "    </tr>\n",
       "  </thead>\n",
       "  <tbody>\n",
       "    <tr>\n",
       "      <th>6014</th>\n",
       "      <td>GENERAL MOTORS</td>\n",
       "      <td>TRACKER</td>\n",
       "      <td>WMCCANN</td>\n",
       "      <td>AUTOS E UTILITARIOS</td>\n",
       "      <td>LONDRINA</td>\n",
       "      <td>SAO PAULO</td>\n",
       "      <td>SAO PAULO</td>\n",
       "      <td>202507</td>\n",
       "      <td>RECORD</td>\n",
       "      <td>CHAMADA</td>\n",
       "      <td>0208</td>\n",
       "      <td>01</td>\n",
       "    </tr>\n",
       "    <tr>\n",
       "      <th>6015</th>\n",
       "      <td>GENERAL MOTORS</td>\n",
       "      <td>TRACKER</td>\n",
       "      <td>WMCCANN</td>\n",
       "      <td>AUTOS E UTILITARIOS</td>\n",
       "      <td>MARINGA</td>\n",
       "      <td>SAO PAULO</td>\n",
       "      <td>SAO PAULO</td>\n",
       "      <td>202507</td>\n",
       "      <td>RECORD</td>\n",
       "      <td>CHAMADA</td>\n",
       "      <td>0158</td>\n",
       "      <td>01</td>\n",
       "    </tr>\n",
       "    <tr>\n",
       "      <th>6016</th>\n",
       "      <td>GENERAL MOTORS</td>\n",
       "      <td>ACDELCO</td>\n",
       "      <td>WMCCANN</td>\n",
       "      <td>CS AUTOMOTIVO</td>\n",
       "      <td>PONTA GROSSA MERCHANDISING</td>\n",
       "      <td>SAO PAULO</td>\n",
       "      <td>SAO PAULO</td>\n",
       "      <td>202507</td>\n",
       "      <td>SBT</td>\n",
       "      <td>ACAO COMERCIAL</td>\n",
       "      <td>1016</td>\n",
       "      <td>01</td>\n",
       "    </tr>\n",
       "    <tr>\n",
       "      <th>6017</th>\n",
       "      <td>IND ERVATEIRA VIER</td>\n",
       "      <td>VERDELANDIA</td>\n",
       "      <td>WO DESIGN</td>\n",
       "      <td>CAFE E CHA</td>\n",
       "      <td>PONTA GROSSA MERCHANDISING</td>\n",
       "      <td>RIO GDE DO SUL</td>\n",
       "      <td>PORTO ALEGRE</td>\n",
       "      <td>202507</td>\n",
       "      <td>SBT</td>\n",
       "      <td>ACAO COMERCIAL</td>\n",
       "      <td>0612</td>\n",
       "      <td>01</td>\n",
       "    </tr>\n",
       "    <tr>\n",
       "      <th>6018</th>\n",
       "      <td>Anunciante</td>\n",
       "      <td>Marca</td>\n",
       "      <td>Agência</td>\n",
       "      <td>Categoria</td>\n",
       "      <td>Praça</td>\n",
       "      <td>UF Autorização</td>\n",
       "      <td>Cidade Autorização</td>\n",
       "      <td>Ano-Mês</td>\n",
       "      <td>Emissora TV</td>\n",
       "      <td>Tipo Veiculação</td>\n",
       "      <td>INV(000)</td>\n",
       "      <td>Inserção</td>\n",
       "    </tr>\n",
       "  </tbody>\n",
       "</table>\n",
       "</div>"
      ],
      "text/plain": [
       "                      0            1          2                    3   \\\n",
       "6014      GENERAL MOTORS      TRACKER    WMCCANN  AUTOS E UTILITARIOS   \n",
       "6015      GENERAL MOTORS      TRACKER    WMCCANN  AUTOS E UTILITARIOS   \n",
       "6016      GENERAL MOTORS      ACDELCO    WMCCANN        CS AUTOMOTIVO   \n",
       "6017  IND ERVATEIRA VIER  VERDELANDIA  WO DESIGN           CAFE E CHA   \n",
       "6018          Anunciante        Marca    Agência            Categoria   \n",
       "\n",
       "                              4               5                   6        7   \\\n",
       "6014                    LONDRINA       SAO PAULO           SAO PAULO   202507   \n",
       "6015                     MARINGA       SAO PAULO           SAO PAULO   202507   \n",
       "6016  PONTA GROSSA MERCHANDISING       SAO PAULO           SAO PAULO   202507   \n",
       "6017  PONTA GROSSA MERCHANDISING  RIO GDE DO SUL        PORTO ALEGRE   202507   \n",
       "6018                       Praça  UF Autorização  Cidade Autorização  Ano-Mês   \n",
       "\n",
       "               8                9         10        11  \n",
       "6014       RECORD          CHAMADA      0208        01  \n",
       "6015       RECORD          CHAMADA      0158        01  \n",
       "6016          SBT   ACAO COMERCIAL      1016        01  \n",
       "6017          SBT   ACAO COMERCIAL      0612        01  \n",
       "6018  Emissora TV  Tipo Veiculação  INV(000)  Inserção  "
      ]
     },
     "execution_count": 38,
     "metadata": {},
     "output_type": "execute_result"
    }
   ],
   "source": [
    "df.tail()"
   ]
  },
  {
   "cell_type": "code",
   "execution_count": 39,
   "id": "6128dfbb",
   "metadata": {},
   "outputs": [],
   "source": [
    "new_header = df.tail(1).values[0]"
   ]
  },
  {
   "cell_type": "code",
   "execution_count": 40,
   "id": "439616d8",
   "metadata": {},
   "outputs": [],
   "source": [
    "df = df.iloc[:-1]"
   ]
  },
  {
   "cell_type": "code",
   "execution_count": 41,
   "id": "109c70e9",
   "metadata": {},
   "outputs": [],
   "source": [
    "df.columns = new_header"
   ]
  },
  {
   "cell_type": "code",
   "execution_count": 42,
   "id": "d3561757",
   "metadata": {},
   "outputs": [],
   "source": [
    "df = df.reset_index(drop=True)"
   ]
  },
  {
   "cell_type": "code",
   "execution_count": 46,
   "id": "a030bf23",
   "metadata": {},
   "outputs": [
    {
     "data": {
      "application/vnd.microsoft.datawrangler.viewer.v0+json": {
       "columns": [
        {
         "name": "index",
         "rawType": "int64",
         "type": "integer"
        },
        {
         "name": "Anunciante",
         "rawType": "object",
         "type": "string"
        },
        {
         "name": "Marca",
         "rawType": "object",
         "type": "string"
        },
        {
         "name": "Agência",
         "rawType": "object",
         "type": "string"
        },
        {
         "name": "Categoria",
         "rawType": "object",
         "type": "string"
        },
        {
         "name": "Praça",
         "rawType": "object",
         "type": "string"
        },
        {
         "name": "UF Autorização",
         "rawType": "object",
         "type": "string"
        },
        {
         "name": "Cidade Autorização",
         "rawType": "object",
         "type": "string"
        },
        {
         "name": "Ano-Mês",
         "rawType": "object",
         "type": "string"
        },
        {
         "name": "Emissora TV",
         "rawType": "object",
         "type": "string"
        },
        {
         "name": "Tipo Veiculação",
         "rawType": "object",
         "type": "string"
        },
        {
         "name": "INV(000)",
         "rawType": "object",
         "type": "string"
        },
        {
         "name": "Inserção",
         "rawType": "object",
         "type": "string"
        }
       ],
       "ref": "f10f357f-34fc-4b72-a826-412d6441b8f7",
       "rows": [
        [
         "6013",
         "GENERAL MOTORS",
         "TRACKER",
         "WMCCANN",
         "AUTOS E UTILITARIOS",
         "CASCAVEL",
         "SAO PAULO",
         "SAO PAULO",
         "202507",
         "RECORD",
         "CHAMADA",
         "0163",
         "01"
        ],
        [
         "6014",
         "GENERAL MOTORS",
         "TRACKER",
         "WMCCANN",
         "AUTOS E UTILITARIOS",
         "LONDRINA",
         "SAO PAULO",
         "SAO PAULO",
         "202507",
         "RECORD",
         "CHAMADA",
         "0208",
         "01"
        ],
        [
         "6015",
         "GENERAL MOTORS",
         "TRACKER",
         "WMCCANN",
         "AUTOS E UTILITARIOS",
         "MARINGA",
         "SAO PAULO",
         "SAO PAULO",
         "202507",
         "RECORD",
         "CHAMADA",
         "0158",
         "01"
        ],
        [
         "6016",
         "GENERAL MOTORS",
         "ACDELCO",
         "WMCCANN",
         "CS AUTOMOTIVO",
         "PONTA GROSSA MERCHANDISING",
         "SAO PAULO",
         "SAO PAULO",
         "202507",
         "SBT",
         "ACAO COMERCIAL",
         "1016",
         "01"
        ],
        [
         "6017",
         "IND ERVATEIRA VIER",
         "VERDELANDIA",
         "WO DESIGN",
         "CAFE E CHA",
         "PONTA GROSSA MERCHANDISING",
         "RIO GDE DO SUL",
         "PORTO ALEGRE",
         "202507",
         "SBT",
         "ACAO COMERCIAL",
         "0612",
         "01"
        ]
       ],
       "shape": {
        "columns": 12,
        "rows": 5
       }
      },
      "text/html": [
       "<div>\n",
       "<style scoped>\n",
       "    .dataframe tbody tr th:only-of-type {\n",
       "        vertical-align: middle;\n",
       "    }\n",
       "\n",
       "    .dataframe tbody tr th {\n",
       "        vertical-align: top;\n",
       "    }\n",
       "\n",
       "    .dataframe thead th {\n",
       "        text-align: right;\n",
       "    }\n",
       "</style>\n",
       "<table border=\"1\" class=\"dataframe\">\n",
       "  <thead>\n",
       "    <tr style=\"text-align: right;\">\n",
       "      <th></th>\n",
       "      <th>Anunciante</th>\n",
       "      <th>Marca</th>\n",
       "      <th>Agência</th>\n",
       "      <th>Categoria</th>\n",
       "      <th>Praça</th>\n",
       "      <th>UF Autorização</th>\n",
       "      <th>Cidade Autorização</th>\n",
       "      <th>Ano-Mês</th>\n",
       "      <th>Emissora TV</th>\n",
       "      <th>Tipo Veiculação</th>\n",
       "      <th>INV(000)</th>\n",
       "      <th>Inserção</th>\n",
       "    </tr>\n",
       "  </thead>\n",
       "  <tbody>\n",
       "    <tr>\n",
       "      <th>6013</th>\n",
       "      <td>GENERAL MOTORS</td>\n",
       "      <td>TRACKER</td>\n",
       "      <td>WMCCANN</td>\n",
       "      <td>AUTOS E UTILITARIOS</td>\n",
       "      <td>CASCAVEL</td>\n",
       "      <td>SAO PAULO</td>\n",
       "      <td>SAO PAULO</td>\n",
       "      <td>202507</td>\n",
       "      <td>RECORD</td>\n",
       "      <td>CHAMADA</td>\n",
       "      <td>0163</td>\n",
       "      <td>01</td>\n",
       "    </tr>\n",
       "    <tr>\n",
       "      <th>6014</th>\n",
       "      <td>GENERAL MOTORS</td>\n",
       "      <td>TRACKER</td>\n",
       "      <td>WMCCANN</td>\n",
       "      <td>AUTOS E UTILITARIOS</td>\n",
       "      <td>LONDRINA</td>\n",
       "      <td>SAO PAULO</td>\n",
       "      <td>SAO PAULO</td>\n",
       "      <td>202507</td>\n",
       "      <td>RECORD</td>\n",
       "      <td>CHAMADA</td>\n",
       "      <td>0208</td>\n",
       "      <td>01</td>\n",
       "    </tr>\n",
       "    <tr>\n",
       "      <th>6015</th>\n",
       "      <td>GENERAL MOTORS</td>\n",
       "      <td>TRACKER</td>\n",
       "      <td>WMCCANN</td>\n",
       "      <td>AUTOS E UTILITARIOS</td>\n",
       "      <td>MARINGA</td>\n",
       "      <td>SAO PAULO</td>\n",
       "      <td>SAO PAULO</td>\n",
       "      <td>202507</td>\n",
       "      <td>RECORD</td>\n",
       "      <td>CHAMADA</td>\n",
       "      <td>0158</td>\n",
       "      <td>01</td>\n",
       "    </tr>\n",
       "    <tr>\n",
       "      <th>6016</th>\n",
       "      <td>GENERAL MOTORS</td>\n",
       "      <td>ACDELCO</td>\n",
       "      <td>WMCCANN</td>\n",
       "      <td>CS AUTOMOTIVO</td>\n",
       "      <td>PONTA GROSSA MERCHANDISING</td>\n",
       "      <td>SAO PAULO</td>\n",
       "      <td>SAO PAULO</td>\n",
       "      <td>202507</td>\n",
       "      <td>SBT</td>\n",
       "      <td>ACAO COMERCIAL</td>\n",
       "      <td>1016</td>\n",
       "      <td>01</td>\n",
       "    </tr>\n",
       "    <tr>\n",
       "      <th>6017</th>\n",
       "      <td>IND ERVATEIRA VIER</td>\n",
       "      <td>VERDELANDIA</td>\n",
       "      <td>WO DESIGN</td>\n",
       "      <td>CAFE E CHA</td>\n",
       "      <td>PONTA GROSSA MERCHANDISING</td>\n",
       "      <td>RIO GDE DO SUL</td>\n",
       "      <td>PORTO ALEGRE</td>\n",
       "      <td>202507</td>\n",
       "      <td>SBT</td>\n",
       "      <td>ACAO COMERCIAL</td>\n",
       "      <td>0612</td>\n",
       "      <td>01</td>\n",
       "    </tr>\n",
       "  </tbody>\n",
       "</table>\n",
       "</div>"
      ],
      "text/plain": [
       "              Anunciante        Marca    Agência            Categoria  \\\n",
       "6013      GENERAL MOTORS      TRACKER    WMCCANN  AUTOS E UTILITARIOS   \n",
       "6014      GENERAL MOTORS      TRACKER    WMCCANN  AUTOS E UTILITARIOS   \n",
       "6015      GENERAL MOTORS      TRACKER    WMCCANN  AUTOS E UTILITARIOS   \n",
       "6016      GENERAL MOTORS      ACDELCO    WMCCANN        CS AUTOMOTIVO   \n",
       "6017  IND ERVATEIRA VIER  VERDELANDIA  WO DESIGN           CAFE E CHA   \n",
       "\n",
       "                           Praça  UF Autorização Cidade Autorização Ano-Mês  \\\n",
       "6013                    CASCAVEL       SAO PAULO          SAO PAULO  202507   \n",
       "6014                    LONDRINA       SAO PAULO          SAO PAULO  202507   \n",
       "6015                     MARINGA       SAO PAULO          SAO PAULO  202507   \n",
       "6016  PONTA GROSSA MERCHANDISING       SAO PAULO          SAO PAULO  202507   \n",
       "6017  PONTA GROSSA MERCHANDISING  RIO GDE DO SUL       PORTO ALEGRE  202507   \n",
       "\n",
       "     Emissora TV Tipo Veiculação INV(000) Inserção  \n",
       "6013      RECORD         CHAMADA     0163       01  \n",
       "6014      RECORD         CHAMADA     0208       01  \n",
       "6015      RECORD         CHAMADA     0158       01  \n",
       "6016         SBT  ACAO COMERCIAL     1016       01  \n",
       "6017         SBT  ACAO COMERCIAL     0612       01  "
      ]
     },
     "execution_count": 46,
     "metadata": {},
     "output_type": "execute_result"
    }
   ],
   "source": [
    "df.tail()"
   ]
  },
  {
   "cell_type": "code",
   "execution_count": 51,
   "id": "973c4670",
   "metadata": {},
   "outputs": [],
   "source": [
    "df.to_excel(r\"C:\\Users\\guilherme.oliveira\\Documents\\GitHub\\Absent-Clients\\data\\processed\\result.xlsx\", engine='openpyxl', index=False)"
   ]
  },
  {
   "cell_type": "code",
   "execution_count": null,
   "id": "e37c304e",
   "metadata": {},
   "outputs": [],
   "source": []
  }
 ],
 "metadata": {
  "kernelspec": {
   "display_name": "venv",
   "language": "python",
   "name": "python3"
  },
  "language_info": {
   "codemirror_mode": {
    "name": "ipython",
    "version": 3
   },
   "file_extension": ".py",
   "mimetype": "text/x-python",
   "name": "python",
   "nbconvert_exporter": "python",
   "pygments_lexer": "ipython3",
   "version": "3.13.5"
  }
 },
 "nbformat": 4,
 "nbformat_minor": 5
}
